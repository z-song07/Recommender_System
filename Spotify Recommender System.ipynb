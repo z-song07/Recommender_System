{
 "cells": [
  {
   "cell_type": "markdown",
   "id": "5c1b26a0",
   "metadata": {},
   "source": [
    "# <center>Spotify Recommender System</center>"
   ]
  },
  {
   "cell_type": "markdown",
   "id": "d7731131",
   "metadata": {},
   "source": [
    "A website that uses the recommender system is Spotify. Spotify is a music platform that allows users to listen to music and discover new music. It offers various ways to recommend music, including the New Discovery playlist, which features newly released songs that match the user's taste; the Daily Mix playlist, which includes user's previously listened songs and other songs with similar genres; and song recommendations to add to the user's current music queue. Spotify also allows users to discover existing playlists created by other users with similar music tastes.\n",
    "\n",
    "## Scenerio Design Analysis\n",
    "Spotify caters to music lovers who want to listen to their favorite songs while also discovering new music. The company wants to satisfy listeners by recommending songs based on their preferences, thereby retaining them and preventing users from switching to other music platforms.To meet these objectives, a well-designed music recommendation system is necessary. Spotify's recommendation algorithm analyzes users' listening behavior and preferences to provide personalized music and playlists, ensuring that they remain loyal to the platform."
   ]
  },
  {
   "cell_type": "markdown",
   "id": "b2e41bcf",
   "metadata": {},
   "source": [
    "## Recommender System\n",
    "\n",
    "Each Spotify user has a personalized \"taste profile\" that is algorithmically calculated based on the user's settings and behavior to determine user's music preference. First, Spotify determines song recommendation based on the listener's information, including their country, language, age, and the artists and genres they follow. Listeners are more likely to be recommended songs that are popular in their language or country, age group, and the artists and genres they follow. Spotify then recommends songs based on the listener's behavior, including adding, liking, hiding, and skipping songs, the number of times a song is clicked, and the number of times a user listens to the entire song. Every song on Spotify has like, skip, and hide buttons. The like button adds the song to the user's favorites. When the user likes a song, the Spotify recommendation algorithm will add extra points to the genre/artist on the user's taste profile. The skip button slightly deducts points on the song's artist and genre from the user's taste profile. The hide button blocks the song from the playlist and further affects the score of the artist and genre in the user's taste profile. Spotify then uses a combination of content-based filtering and collaborative filtering to recommend music that matches the user's taste profile.\n",
    "\n",
    "### 1. Content-based filtering\n",
    "Content-based filtering first analyzes and categorizes the song itself based on three factors: the song's metadata, audio, and lyrics, and then recommends similar content based on the user's taste. When a song is uploaded and released on Spotify, the owner of the song must fill out metadata about the song, including artist, album, available market (countries), language, explicitness, release date, and genre. Next, the song's audio is examined and categorized based on factors such as acoustics, danceability, energy, liveness (recorded with an audience), and valence (positive happy cheerful or negative sad depressed angry). Finally, the song's lyrics are analyzed and categorized using a natural language processing model. The combination of a song's metadata, audio features, and lyrical content can be labeled and tagged to categorize the song. Songs that have common tags with the user's favorite songs are then recommended to the user.\n",
    "\n",
    "### 2. Collaborative filtering\n",
    "Collaborative filtering is based on correlations that exist between songs or user behaviors. Songs are grouped based on how users add them to playlists. For example, if two songs often appear in the same playlist or are often played together, then they have strong correlation. If a user has listened to one of two highly related songs but never the other, Spotify will recommend the song that the user has never heard of. Additionally, when users take similar actions on certain content, the Spotify algorithm will learn more about what content people want to see. For example, if many users searching for the same keywords click on the same song the most, Spotify may recommend the most clicked song in the results to other users searching for similar content."
   ]
  },
  {
   "cell_type": "markdown",
   "id": "878d5f4d",
   "metadata": {},
   "source": [
    "## Drawback and Improvement\n",
    "\n",
    "However, content-based and collaborative recommendation systems have the disadvantage of reinforcing existing biases: users may never get recommendations for genres or artists they have never heard of. Spotify should be more inclusive when recommending new genres, artists, and songs in other languages in the user's Discover playlist. To achieve this, Spotify can occasionally recommend a few songs from genres or tags that the user has never heard of, or songs that are less relevant to the user's existing favorite songs. If the user skips the recommended song, then Spotify's personalized recommender will know that the user does not like the recommended genre, and avoid it in the future.\n",
    "    \n",
    "   In addition, different countries and different cultures may label and categorize songs differently. The mood of a song cannot be determined solely by lyrics or the major/minor key and valence of the audio. For example, some cultures consider minor keys to be sad, while others consider them to be happy. Lyrics can sometimes be sarcastic, contrary to their meaning. Therefore, Spotify should refine its recommendation algorithm to consider cultural and contextual factors for users in different regions when determining song categorization and recommendations."
   ]
  },
  {
   "cell_type": "markdown",
   "id": "ec5fadd8",
   "metadata": {},
   "source": [
    "## References\n",
    "\n",
    "Pastukhov, D. (2022, February 9). How Spotify’s Algorithm Works? A Complete Guide to Spotify Recommendation System [2022] | Music Tomorrow Blog. https://www.music-tomorrow.com/blog/how-spotify-recommendation-system-works-a-complete-guide-2022 \n",
    "\n",
    "Spotify. (n.d.-a). Safety & Privacy Center. Retrieved December 5, 2024, from https://www.spotify.com/us/safetyandprivacy/understanding-recommendations\n",
    "\n",
    "Spotify. (n.d.-b). Web API | Spotify for Developers. Retrieved December 5, 2024, from https://developer.spotify.com/documentation/web-api\n",
    "\n",
    "The Wall Street Journal. (2023, April 15). How Spotify’s AI-Driven Recommendations Work | WSJ Tech Behind [Video]. YouTube. https://www.youtube.com/watch?v=pGntmcy_HX8\n"
   ]
  }
 ],
 "metadata": {
  "kernelspec": {
   "display_name": "Python 3 (ipykernel)",
   "language": "python",
   "name": "python3"
  },
  "language_info": {
   "codemirror_mode": {
    "name": "ipython",
    "version": 3
   },
   "file_extension": ".py",
   "mimetype": "text/x-python",
   "name": "python",
   "nbconvert_exporter": "python",
   "pygments_lexer": "ipython3",
   "version": "3.11.1"
  }
 },
 "nbformat": 4,
 "nbformat_minor": 5
}
